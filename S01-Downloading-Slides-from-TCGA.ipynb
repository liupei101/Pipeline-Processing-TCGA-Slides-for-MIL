{
 "cells": [
  {
   "cell_type": "markdown",
   "id": "ca322f05",
   "metadata": {},
   "source": [
    "# S01: Downloading slides from TCGA website\n",
    "\n",
    "NOTE: Throughout this tutorial, the project `TCGA-RCC` (Renal Cell Carcinoma) is taken as example. \n",
    "\n",
    "## 1. Collecting data at TCGA website\n",
    "\n",
    "You need to add three sub-projects for downloading the full data of `TCGA-RCC`. These sub-projects are as follows:\n",
    "- `TCGA-KIRC`\n",
    "- `TCGA-KIPP`\n",
    "- `TCGA-KICH`\n",
    "\n",
    "Specifically, you should go to the official TCGA website (old version), https://portal.gdc.cancer.gov/v1/, and then follow the steps:\n",
    "1. searching for one specific project (three in total)\n",
    "2. selecting diagnostic slides on the page of this project\n",
    "3. adding the selected slides to your cart\n",
    "\n",
    "<img src=\"./docs/S01-step1.png\" width=\"60%\" align='left' />\n",
    "\n",
    "<img src=\"./docs/S01-step2.png\" width=\"60%\" align='left' />\n",
    "\n",
    "<img src=\"./docs/S01-step3.png\" width=\"60%\" align='left' />"
   ]
  },
  {
   "cell_type": "markdown",
   "id": "7c7b11c6",
   "metadata": {},
   "source": [
    "Finally, you should have three sub-projects in your cart, just as follows:\n",
    "<img src=\"./docs/S01-cart.png\" width=\"60%\" align='left' />"
   ]
  },
  {
   "cell_type": "markdown",
   "id": "600c00e7",
   "metadata": {},
   "source": [
    "## 2. Downloading the Sample Sheet\n",
    "\n",
    "You should click the `Sample Sheet` button and then choose `tsv`. Then, a tsv file named `gdc_sample_sheet.XXXXXX.tsv` will be downloaded. Its example file is placed at `./docs/gdc_sample_sheet.tsv`. It will be used in the step S02.\n",
    "\n",
    "## 3. Downloading the Manifest\n",
    "\n",
    "You should click the `Download` button and then choose `Manifest`. Then, a text file named `gdc_manifest_XXXXXXXX.txt` will be downloaded.\n",
    "\n",
    "## 4. Downloading Slides Using GDC Data Transfer Tool\n",
    "\n",
    "As a requirement, you should install GDC Data Transfer Tool (available at https://gdc.cancer.gov/access-data/gdc-data-transfer-tool) in your server, in order to efficiently get the data from TCGA.\n",
    "\n",
    "After the installation, you can use the following command to download all slides:\n",
    "```bash\n",
    "# in the directory where GDC is installed.\n",
    "./gdc-client download \\\n",
    "    --dir <DIR_TO_DOWNLOAD> \\\n",
    "    --manifest <PATH_TO_MANIFEST_FILE> \\\n",
    "    --log-file tcga-rcc-download.log\n",
    "```\n",
    "You could use `./gdc-client download --help` for usage or visit https://docs.gdc.cancer.gov/Data_Transfer_Tool/Users_Guide/Data_Download_and_Upload/ for an official reference.\n",
    "\n",
    "NOTE:\n",
    "- `DIR_TO_DOWNLOAD` should be the directory to download files to. Defaults to current directory.\n",
    "- `PATH_TO_MANIFEST_FILE` should be GDC download manifest file (e.g., `gdc_manifest_XXXXXXXX.txt`).\n",
    "\n",
    "To show you the complete procedure, I simply use the following path configurations for reading or saving files:\n",
    "- `DIR_TO_DOWNLOAD = /NAS02/RawData/download_rcc`"
   ]
  }
 ],
 "metadata": {
  "kernelspec": {
   "display_name": "Python 3 (ipykernel)",
   "language": "python",
   "name": "python3"
  },
  "language_info": {
   "codemirror_mode": {
    "name": "ipython",
    "version": 3
   },
   "file_extension": ".py",
   "mimetype": "text/x-python",
   "name": "python",
   "nbconvert_exporter": "python",
   "pygments_lexer": "ipython3",
   "version": "3.8.12"
  }
 },
 "nbformat": 4,
 "nbformat_minor": 5
}
